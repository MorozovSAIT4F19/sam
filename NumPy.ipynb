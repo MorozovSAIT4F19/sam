{
 "cells": [
  {
   "cell_type": "markdown",
   "metadata": {},
   "source": [
    "# Numpy refreshing"
   ]
  },
  {
   "cell_type": "code",
   "execution_count": 8,
   "metadata": {},
   "outputs": [
    {
     "name": "stdout",
     "output_type": "stream",
     "text": [
      "<class 'numpy.ndarray'>\n",
      "(5,)\n",
      "100 48 33 28 22\n",
      "[100  22  33   5  28]\n",
      "(2, 4)\n",
      "1 2 4\n"
     ]
    }
   ],
   "source": [
    "import numpy as np\n",
    "\n",
    "a = np.array([100, 22, 33, 48, 28])\n",
    "print(type(a))\n",
    "print(a.shape)\n",
    "print(a[0], a[3], a[2], a[4], a[1])\n",
    "a[3] = 5\n",
    "print(a)\n",
    "\n",
    "b = np.array([[1,2,3,4],[4,5,6,4]])\n",
    "print(b.shape)\n",
    "print(b[0, 0], b[0, 1], b[1, 3])"
   ]
  },
  {
   "cell_type": "code",
   "execution_count": 15,
   "metadata": {},
   "outputs": [
    {
     "name": "stdout",
     "output_type": "stream",
     "text": [
      "[[0. 0. 0.]\n",
      " [0. 0. 0.]\n",
      " [0. 0. 0.]]\n",
      "[[1. 1.]\n",
      " [1. 1.]]\n",
      "[[54 54 54]\n",
      " [54 54 54]]\n",
      "[[1. 0.]\n",
      " [0. 1.]]\n",
      "[[0.40472369 0.17445987 0.94186621 0.33301964 0.77405726]\n",
      " [0.21143874 0.48827561 0.73462701 0.47583522 0.95083533]]\n"
     ]
    }
   ],
   "source": [
    "a = np.zeros((3,3))\n",
    "\n",
    "b = np.ones((2,2))\n",
    "\n",
    "c = np.full((2,3), 54)\n",
    "\n",
    "d = np.eye(2)\n",
    "\n",
    "e = np.random.random((2,5))\n",
    "\n",
    "abcde = [a,b,c,d,e]\n",
    "\n",
    "for i in abcde:\n",
    "    print(i)"
   ]
  },
  {
   "cell_type": "code",
   "execution_count": 21,
   "metadata": {},
   "outputs": [
    {
     "name": "stdout",
     "output_type": "stream",
     "text": [
      "[[82 92]\n",
      " [98 89]]\n",
      "92\n",
      "555\n"
     ]
    }
   ],
   "source": [
    "a = np.array([[1,4,3,8],[43,31,82,92],[32,82,98,89]])\n",
    "print(a[1:,2:])\n",
    "\n",
    "print(a[1,3])\n",
    "a[1,3] = 555\n",
    "print(a[1,3])"
   ]
  },
  {
   "cell_type": "code",
   "execution_count": 26,
   "metadata": {},
   "outputs": [
    {
     "name": "stdout",
     "output_type": "stream",
     "text": [
      "[43 31 82 92] (4,)\n",
      "[[43 31 82 92]] (1, 4)\n",
      "\n",
      "\n",
      "[ 4 31 82] (3,)\n",
      "[[ 4]\n",
      " [31]\n",
      " [82]] (3, 1)\n"
     ]
    }
   ],
   "source": [
    "a = np.array([[1,4,3,8],[43,31,82,92],[32,82,98,89]])\n",
    "\n",
    "row_r1 = a[1,:]\n",
    "row_r2 = a[1:2,:]\n",
    "print(row_r1, row_r1.shape)\n",
    "print(row_r2, row_r2.shape)\n",
    "\n",
    "print('\\n')\n",
    "\n",
    "col_r1 = a[:, 1]\n",
    "col_r2 = a[:, 1:2]\n",
    "print(col_r1, col_r1.shape)\n",
    "print(col_r2, col_r2.shape)"
   ]
  },
  {
   "cell_type": "code",
   "execution_count": 29,
   "metadata": {},
   "outputs": [
    {
     "name": "stdout",
     "output_type": "stream",
     "text": [
      "[43 89 82  8]\n",
      "[43 89 82  8]\n"
     ]
    }
   ],
   "source": [
    "print(a[[1,2,1,0],[0,3,2,3]])\n",
    "print(np.array([a[1,0],a[2,3],a[1,2],a[0,3]]))"
   ]
  },
  {
   "cell_type": "code",
   "execution_count": 35,
   "metadata": {},
   "outputs": [
    {
     "name": "stdout",
     "output_type": "stream",
     "text": [
      "[ 1  4  9 12]\n",
      "[[ 10   2   3]\n",
      " [ 40   5   6]\n",
      " [  7   8  90]\n",
      " [ 10  11 120]]\n"
     ]
    }
   ],
   "source": [
    "a = np.array([[1,2,3], [4,5,6], [7,8,9], [10, 11, 12]])\n",
    "b = np.array([0,0,2,2])\n",
    "print(a[np.arange(4),b])\n",
    "\n",
    "a[np.arange(4), b] *= 10\n",
    "print(a)"
   ]
  },
  {
   "cell_type": "code",
   "execution_count": 38,
   "metadata": {},
   "outputs": [
    {
     "name": "stdout",
     "output_type": "stream",
     "text": [
      "int32\n",
      "float64\n",
      "int64\n"
     ]
    }
   ],
   "source": [
    "x = np.array([1, 2])\n",
    "print(x.dtype)\n",
    "\n",
    "y = np.array([1.0, 2.2])\n",
    "print(y.dtype)\n",
    "\n",
    "z = np.array([1, 2], dtype = np.int64)\n",
    "print(z.dtype)"
   ]
  },
  {
   "cell_type": "code",
   "execution_count": 42,
   "metadata": {},
   "outputs": [
    {
     "name": "stdout",
     "output_type": "stream",
     "text": [
      "[[10  9  6]\n",
      " [ 6  8 10]]\n",
      "[[10  9  6]\n",
      " [ 6  8 10]]\n",
      "[[-6 -5  0]\n",
      " [ 0  2  8]]\n",
      "[[0.25       0.28571429 1.        ]\n",
      " [1.         1.66666667 9.        ]]\n",
      "[[16 14  9]\n",
      " [ 9 15  9]]\n",
      "[[1.41421356 1.41421356 1.73205081]\n",
      " [1.73205081 2.23606798 3.        ]]\n"
     ]
    }
   ],
   "source": [
    "x = np.array([[2,2,3],[3,5,9]])\n",
    "y = np.array([[8,7,3],[3,3,1]])\n",
    "\n",
    "print(x+y)\n",
    "print(np.add(x,y))\n",
    "print(np.subtract(x,y))\n",
    "print(np.divide(x,y))\n",
    "print(np.multiply(x,y))\n",
    "print(np.sqrt(x))"
   ]
  },
  {
   "cell_type": "code",
   "execution_count": 43,
   "metadata": {},
   "outputs": [
    {
     "name": "stdout",
     "output_type": "stream",
     "text": [
      "219\n",
      "219\n"
     ]
    }
   ],
   "source": [
    "x = np.array([[1,2],[3,4]])\n",
    "y = np.array([[5,6],[7,8]])\n",
    "\n",
    "v = np.array([9,10])\n",
    "w = np.array([11, 12])\n",
    "\n",
    "print(v.dot(w))\n",
    "print(np.dot(v, w))"
   ]
  },
  {
   "cell_type": "code",
   "execution_count": 45,
   "metadata": {},
   "outputs": [
    {
     "name": "stdout",
     "output_type": "stream",
     "text": [
      "26\n",
      "[12 14]\n",
      "[11 15]\n",
      "[[5 7]\n",
      " [6 8]]\n"
     ]
    }
   ],
   "source": [
    "y = np.array([[5,6],[7,8]])\n",
    "\n",
    "print(np.sum(y))\n",
    "print(np.sum(y, axis = 0))\n",
    "print(np.sum(y, axis = 1))\n",
    "\n",
    "x = y.T\n",
    "print(x)"
   ]
  },
  {
   "cell_type": "code",
   "execution_count": 46,
   "metadata": {},
   "outputs": [
    {
     "name": "stdout",
     "output_type": "stream",
     "text": [
      "[[11 14 16]\n",
      " [18 14 19]\n",
      " [19 13 11]\n",
      " [20 21 38]]\n"
     ]
    }
   ],
   "source": [
    "r = np.array([[1,4,6],[8,4,9],[9,3,1],[10,11,28]])\n",
    "x = np.array([10,10,10])\n",
    "u = np.empty_like(r)\n",
    "\n",
    "for i in range(4):\n",
    "    u[i,:] = r[i,:] + x\n",
    "    \n",
    "print(u)"
   ]
  }
 ],
 "metadata": {
  "kernelspec": {
   "display_name": "Python 3",
   "language": "python",
   "name": "python3"
  },
  "language_info": {
   "codemirror_mode": {
    "name": "ipython",
    "version": 3
   },
   "file_extension": ".py",
   "mimetype": "text/x-python",
   "name": "python",
   "nbconvert_exporter": "python",
   "pygments_lexer": "ipython3",
   "version": "3.7.3"
  }
 },
 "nbformat": 4,
 "nbformat_minor": 2
}
